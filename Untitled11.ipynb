{
 "cells": [
  {
   "cell_type": "markdown",
   "id": "e3496e0d-be2b-40cb-8cb7-8b6944dec0fc",
   "metadata": {},
   "source": [
    "# Introduction to Data Science with Python"
   ]
  },
  {
   "cell_type": "markdown",
   "id": "f077e1dd-41a6-4a6f-ae55-bcd058175275",
   "metadata": {},
   "source": [
    "Welcome! This notebook introduces the basics of data science using markdown and Python code cells."
   ]
  },
  {
   "cell_type": "markdown",
   "id": "d4269af7-c91a-4f30-b493-260d7c036719",
   "metadata": {},
   "source": [
    "Some of the most popular programming languages used in Data Science are:\n",
    "\n",
    "1. Python  \n",
    "2. R  \n",
    "3. SQL  \n",
    "4. Java  \n",
    "5. Julia  \n"
   ]
  },
  {
   "cell_type": "markdown",
   "id": "deedfa70-34c3-4294-9a07-8a60ea761209",
   "metadata": {},
   "source": [
    "Here are some commonly used data science libraries:\n",
    "\n",
    "1. NumPy  \n",
    "2. Pandas  \n",
    "3. Scikit-learn  \n",
    "4. Matplotlib  \n",
    "5. TensorFlow  \n"
   ]
  },
  {
   "cell_type": "markdown",
   "id": "a449bbb8-283e-4d14-aa09-c334e9b3531d",
   "metadata": {},
   "source": [
    "| Category         | Tool             |\n",
    "|------------------|------------------|\n",
    "| IDE              | Jupyter Notebook |\n",
    "| Data Visualization | Tableau         |\n",
    "| Machine Learning | TensorFlow       |\n",
    "| Data Management  | Apache Hadoop    |\n",
    "| Cloud Tool       | IBM Watson       |\n"
   ]
  },
  {
   "cell_type": "markdown",
   "id": "5c488712-7b08-499f-887a-426ffc05cf4b",
   "metadata": {},
   "source": [
    "The following code cells demonstrate basic arithmetic expressions such as addition and multiplication.\n"
   ]
  },
  {
   "cell_type": "code",
   "execution_count": 16,
   "id": "39b92a3d-4d58-4d1f-9328-a3b3bd3f484e",
   "metadata": {},
   "outputs": [
    {
     "data": {
      "text/plain": [
       "30"
      ]
     },
     "execution_count": 16,
     "metadata": {},
     "output_type": "execute_result"
    }
   ],
   "source": [
    "# Multiply and add two numbers\n",
    "a = 5\n",
    "b = 4\n",
    "result = a * b + 10\n",
    "result\n"
   ]
  },
  {
   "cell_type": "code",
   "execution_count": 18,
   "id": "bc1c31c4-9f34-4fbd-af99-1efb2ad07083",
   "metadata": {},
   "outputs": [
    {
     "data": {
      "text/plain": [
       "2.5"
      ]
     },
     "execution_count": 18,
     "metadata": {},
     "output_type": "execute_result"
    }
   ],
   "source": [
    "# Convert minutes to hours\n",
    "minutes = 150\n",
    "hours = minutes / 60\n",
    "hours\n"
   ]
  },
  {
   "cell_type": "markdown",
   "id": "f03478ab-d5a1-462a-b949-a6e3a23d25c8",
   "metadata": {},
   "source": [
    "In this notebook, we aim to:\n",
    "\n",
    "- Understand Markdown formatting  \n",
    "- Execute Python code in JupyterLite  \n",
    "- Perform basic data operations  \n",
    "- Use Data Science tools and libraries  \n"
   ]
  },
  {
   "cell_type": "markdown",
   "id": "61b7b1ac-0c64-4225-9ce0-c2f7c59e19b5",
   "metadata": {},
   "source": [
    "**Author:** Mukti Arora\n"
   ]
  },
  {
   "cell_type": "code",
   "execution_count": null,
   "id": "22629aa2-a890-4c40-9515-44e4d385acff",
   "metadata": {},
   "outputs": [],
   "source": []
  }
 ],
 "metadata": {
  "kernelspec": {
   "display_name": "Python [conda env:base] *",
   "language": "python",
   "name": "conda-base-py"
  },
  "language_info": {
   "codemirror_mode": {
    "name": "ipython",
    "version": 3
   },
   "file_extension": ".py",
   "mimetype": "text/x-python",
   "name": "python",
   "nbconvert_exporter": "python",
   "pygments_lexer": "ipython3",
   "version": "3.12.7"
  }
 },
 "nbformat": 4,
 "nbformat_minor": 5
}
